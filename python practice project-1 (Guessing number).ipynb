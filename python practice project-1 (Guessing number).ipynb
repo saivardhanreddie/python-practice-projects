{
 "cells": [
  {
   "cell_type": "code",
   "execution_count": 2,
   "id": "efe328e0",
   "metadata": {},
   "outputs": [
    {
     "name": "stdout",
     "output_type": "stream",
     "text": [
      "Enter any number between 1 and 100: 45\n",
      "Too high!\n",
      "Enter a lower number: 34\n",
      "Too high!\n",
      "Enter a lower number: 23\n",
      "Too high!\n",
      "Enter a lower number: 20\n",
      "Too low\n",
      "Enter a higher number: 22\n",
      "Congratulations! You guessed it right!!\n"
     ]
    }
   ],
   "source": [
    "# Import the random module to generate random numbers\n",
    "import random\n",
    "\n",
    "# Generate a random number between 1 and 100\n",
    "n = random.randrange(1, 100)\n",
    "\n",
    "# Take user input to enter a number\n",
    "guess = int(input(\"Enter any number between 1 and 100: \"))\n",
    "\n",
    "# Keep looping until the user guesses the correct number\n",
    "while n != guess:\n",
    "    # If the guess is smaller than the random number\n",
    "    if guess < n:\n",
    "        print(\"Too low\")\n",
    "        # Ask the user to enter the number again\n",
    "        guess = int(input(\"Enter a higher number: \"))\n",
    "    # If the guess is greater than the random number\n",
    "    elif guess > n:\n",
    "        print(\"Too high!\")\n",
    "        # Ask the user to enter the number again\n",
    "        guess = int(input(\"Enter a lower number: \"))\n",
    "\n",
    "# If the guess matches the random number, exit the loop and print the message\n",
    "print(\"Congratulations! You guessed it right!!\")\n"
   ]
  },
  {
   "cell_type": "code",
   "execution_count": null,
   "id": "66014d35",
   "metadata": {},
   "outputs": [],
   "source": []
  }
 ],
 "metadata": {
  "kernelspec": {
   "display_name": "Python 3 (ipykernel)",
   "language": "python",
   "name": "python3"
  },
  "language_info": {
   "codemirror_mode": {
    "name": "ipython",
    "version": 3
   },
   "file_extension": ".py",
   "mimetype": "text/x-python",
   "name": "python",
   "nbconvert_exporter": "python",
   "pygments_lexer": "ipython3",
   "version": "3.11.5"
  }
 },
 "nbformat": 4,
 "nbformat_minor": 5
}
